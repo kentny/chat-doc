{
  "nbformat": 4,
  "nbformat_minor": 0,
  "metadata": {
    "colab": {
      "provenance": [],
      "authorship_tag": "ABX9TyOqFiVMMDbXkRsXmUFrtRgj",
      "include_colab_link": true
    },
    "kernelspec": {
      "name": "python3",
      "display_name": "Python 3"
    },
    "language_info": {
      "name": "python"
    }
  },
  "cells": [
    {
      "cell_type": "markdown",
      "metadata": {
        "id": "view-in-github",
        "colab_type": "text"
      },
      "source": [
        "<a href=\"https://colab.research.google.com/github/kentny/chat-doc/blob/main/Section2/openai_embeddings.ipynb\" target=\"_parent\"><img src=\"https://colab.research.google.com/assets/colab-badge.svg\" alt=\"Open In Colab\"/></a>"
      ]
    },
    {
      "cell_type": "code",
      "execution_count": null,
      "metadata": {
        "id": "MUOyy5pKUqLf"
      },
      "outputs": [],
      "source": [
        "!pip install openai"
      ]
    },
    {
      "cell_type": "code",
      "source": [
        "import openai\n",
        "import numpy as np\n",
        "from scipy.spatial.distance import cosine\n",
        "\n",
        "# OpenAI APIキーを設定\n",
        "openai.api_key = \"<YOUR API KEY>\""
      ],
      "metadata": {
        "id": "Bnw8uHMqWnIr"
      },
      "execution_count": 4,
      "outputs": []
    },
    {
      "cell_type": "code",
      "source": [
        "# Embeddingsを取得する関数\n",
        "def get_embedding(text):\n",
        "    response = openai.Embedding.create(\n",
        "      model=\"text-embedding-ada-002\",\n",
        "      input=text\n",
        "    )\n",
        "    return np.array(response[\"data\"][0][\"embedding\"])\n",
        "\n",
        "# コサイン類似度を計算する関数\n",
        "def cosine_similarity(embedding1, embedding2):\n",
        "    return 1 - cosine(embedding1, embedding2)"
      ],
      "metadata": {
        "id": "KJqgL7tPWyyJ"
      },
      "execution_count": 25,
      "outputs": []
    },
    {
      "cell_type": "code",
      "source": [
        "# 文章1と2を定義\n",
        "text1 = \"君の名は？\"\n",
        "text2 = \"あなたの名前は？\"\n",
        "text3 = \"お腹すいた\"\n",
        "\n",
        "# 文章の埋め込みを取得\n",
        "embedding1 = get_embedding(text1)\n",
        "embedding2 = get_embedding(text2)\n",
        "embedding3 = get_embedding(text3)"
      ],
      "metadata": {
        "id": "n7DMGPprW7sM"
      },
      "execution_count": 32,
      "outputs": []
    },
    {
      "cell_type": "code",
      "source": [
        "# コサイン類似度を計算\n",
        "similarity1 = cosine_similarity(embedding1, embedding2)\n",
        "similarity2 = cosine_similarity(embedding1, embedding3)\n",
        "\n",
        "print(f\"「{text1}」と「{text2}」の類似度は： {similarity1}\")\n",
        "print(f\"「{text1}」と「{text3}」の類似度は： {similarity2}\")"
      ],
      "metadata": {
        "id": "2xDEIqc6XgKl"
      },
      "execution_count": null,
      "outputs": []
    },
    {
      "cell_type": "code",
      "source": [],
      "metadata": {
        "id": "BWVytPqyZaT-"
      },
      "execution_count": null,
      "outputs": []
    }
  ]
}