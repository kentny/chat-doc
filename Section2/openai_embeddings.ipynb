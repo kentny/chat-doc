{
  "cells": [
    {
      "cell_type": "markdown",
      "metadata": {
        "colab_type": "text",
        "id": "view-in-github"
      },
      "source": [
        "<a href=\"https://colab.research.google.com/github/kentny/chat-doc/blob/main/Section2/openai_embeddings.ipynb\" target=\"_parent\"><img src=\"https://colab.research.google.com/assets/colab-badge.svg\" alt=\"Open In Colab\"/></a>"
      ]
    },
    {
      "cell_type": "code",
      "execution_count": null,
      "metadata": {
        "id": "MUOyy5pKUqLf"
      },
      "outputs": [],
      "source": [
        "!pip install openai"
      ]
    },
    {
      "cell_type": "code",
      "execution_count": 4,
      "metadata": {
        "id": "Bnw8uHMqWnIr"
      },
      "outputs": [],
      "source": [
        "import openai\n",
        "import numpy as np\n",
        "from scipy.spatial.distance import cosine\n",
        "\n",
        "# OpenAI APIキーを設定\n",
        "openai.api_key = \"<YOUR API KEY>\""
      ]
    },
    {
      "cell_type": "code",
      "execution_count": 25,
      "metadata": {
        "id": "KJqgL7tPWyyJ"
      },
      "outputs": [],
      "source": [
        "# Embeddingsを取得する関数\n",
        "def get_embedding(text):\n",
        "    response = openai.Embedding.create(\n",
        "      model=\"text-embedding-ada-002\",\n",
        "      input=text\n",
        "    )\n",
        "    return np.array(response[\"data\"][0][\"embedding\"])\n",
        "\n",
        "# コサイン類似度を計算する関数\n",
        "def cosine_similarity(embedding1, embedding2):\n",
        "    return 1 - cosine(embedding1, embedding2)"
      ]
    },
    {
      "cell_type": "code",
      "execution_count": 32,
      "metadata": {
        "id": "n7DMGPprW7sM"
      },
      "outputs": [],
      "source": [
        "# 文章1と2を定義\n",
        "text1 = \"君の名は？\"\n",
        "text2 = \"あなたの名前は？\"\n",
        "text3 = \"お腹すいた\"\n",
        "\n",
        "# 文章の埋め込みを取得\n",
        "embedding1 = get_embedding(text1)\n",
        "embedding2 = get_embedding(text2)\n",
        "embedding3 = get_embedding(text3)"
      ]
    },
    {
      "cell_type": "code",
      "execution_count": null,
      "metadata": {
        "id": "2xDEIqc6XgKl"
      },
      "outputs": [],
      "source": [
        "# コサイン類似度を計算\n",
        "similarity1 = cosine_similarity(embedding1, embedding2)\n",
        "similarity2 = cosine_similarity(embedding1, embedding3)\n",
        "\n",
        "print(f\"「{text1}」と「{text2}」の類似度は： {similarity1}\")\n",
        "print(f\"「{text1}」と「{text3}」の類似度は： {similarity2}\")"
      ]
    }
  ],
  "metadata": {
    "colab": {
      "authorship_tag": "ABX9TyOqFiVMMDbXkRsXmUFrtRgj",
      "include_colab_link": true,
      "provenance": []
    },
    "kernelspec": {
      "display_name": "Python 3",
      "name": "python3"
    },
    "language_info": {
      "name": "python"
    }
  },
  "nbformat": 4,
  "nbformat_minor": 0
}
