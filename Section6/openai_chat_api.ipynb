{
  "cells": [
    {
      "cell_type": "markdown",
      "metadata": {
        "id": "view-in-github",
        "colab_type": "text"
      },
      "source": [
        "<a href=\"https://colab.research.google.com/github/kentny/chat-doc/blob/main/Section6/openai_chat_api.ipynb\" target=\"_parent\"><img src=\"https://colab.research.google.com/assets/colab-badge.svg\" alt=\"Open In Colab\"/></a>"
      ]
    },
    {
      "cell_type": "markdown",
      "metadata": {
        "id": "uZlrKuxU6Jtl"
      },
      "source": [
        "# 事前準備\n",
        "---\n"
      ]
    },
    {
      "cell_type": "code",
      "execution_count": null,
      "metadata": {
        "id": "di8I6XPt53vG"
      },
      "outputs": [],
      "source": [
        "!pip install openai \\\n",
        "           langchain"
      ]
    },
    {
      "cell_type": "markdown",
      "metadata": {
        "id": "kc8V5M3C8wAD"
      },
      "source": [
        "## OpenAI API Keyを設定"
      ]
    },
    {
      "cell_type": "code",
      "execution_count": 5,
      "metadata": {
        "id": "DN_a5uYQ6eC1"
      },
      "outputs": [],
      "source": [
        "import os\n",
        "\n",
        "os.environ['OPENAI_API_KEY'] = ''"
      ]
    },
    {
      "cell_type": "markdown",
      "metadata": {
        "id": "uZZI7cT47jWf"
      },
      "source": [
        "# Chat API を呼ぶ"
      ]
    },
    {
      "cell_type": "markdown",
      "source": [
        "## Role とは？"
      ],
      "metadata": {
        "id": "iwjMTiynZES3"
      }
    },
    {
      "cell_type": "code",
      "execution_count": 7,
      "metadata": {
        "id": "W_7rJq9T7lF1",
        "colab": {
          "base_uri": "https://localhost:8080/"
        },
        "outputId": "96545f8a-2c5e-442f-d471-e1985e4bc36c"
      },
      "outputs": [
        {
          "output_type": "execute_result",
          "data": {
            "text/plain": [
              "AIMessage(content='水曜日です。', additional_kwargs={})"
            ]
          },
          "metadata": {},
          "execution_count": 7
        }
      ],
      "source": [
        "from langchain.chat_models import ChatOpenAI\n",
        "from langchain.schema import SystemMessage, AIMessage, HumanMessage\n",
        "\n",
        "chat = ChatOpenAI()\n",
        "chat([\n",
        "    SystemMessage(content=\"Answer in Japanese\"),\n",
        "    HumanMessage(content=\"月曜の次は何曜日ですか？\"),\n",
        "    AIMessage(content=\"火曜日です。\"),\n",
        "    HumanMessage(content=\"じゃあその次は？\"),\n",
        "])"
      ]
    },
    {
      "cell_type": "markdown",
      "source": [
        "## Temperature とは？"
      ],
      "metadata": {
        "id": "LHJjY76OZASf"
      }
    },
    {
      "cell_type": "code",
      "source": [
        "chat = ChatOpenAI(temperature=0)\n",
        "ai_message_0 = chat([\n",
        "    SystemMessage(content=\"Answer in Japanese short sentence\"),\n",
        "    HumanMessage(content=\"私は警察官です。転職しようと思いますが何がいいですか？\"),\n",
        "])\n",
        "\n",
        "chat = ChatOpenAI(temperature=1)\n",
        "ai_message_1 = chat([\n",
        "    SystemMessage(content=\"Answer in Japanese short sentence\"),\n",
        "    HumanMessage(content=\"私は警察官です。転職しようと思いますが何がいいですか？\"),\n",
        "])\n",
        "\n",
        "print(ai_message_0)\n",
        "print(ai_message_1)"
      ],
      "metadata": {
        "id": "AN9Cg0XlYN_V"
      },
      "execution_count": null,
      "outputs": []
    }
  ],
  "metadata": {
    "colab": {
      "provenance": [],
      "include_colab_link": true
    },
    "kernelspec": {
      "display_name": "Python 3",
      "name": "python3"
    },
    "language_info": {
      "name": "python",
      "version": "3.9.6"
    }
  },
  "nbformat": 4,
  "nbformat_minor": 0
}