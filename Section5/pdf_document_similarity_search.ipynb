{
  "cells": [
    {
      "attachments": {},
      "cell_type": "markdown",
      "metadata": {
        "colab_type": "text",
        "id": "view-in-github"
      },
      "source": [
        "<a href=\"https://colab.research.google.com/github/kentny/chat-doc/blob/main/Section5/pdf_document_similarity_search.ipynb\" target=\"_parent\"><img src=\"https://colab.research.google.com/assets/colab-badge.svg\" alt=\"Open In Colab\"/></a>"
      ]
    },
    {
      "cell_type": "markdown",
      "metadata": {
        "id": "uZlrKuxU6Jtl"
      },
      "source": [
        "# 事前準備\n",
        "---\n"
      ]
    },
    {
      "cell_type": "code",
      "execution_count": null,
      "metadata": {
        "id": "di8I6XPt53vG"
      },
      "outputs": [],
      "source": [
        "!pip install openai \\\n",
        "           langchain \\\n",
        "           pypdf \\\n",
        "           chromadb \\\n",
        "           tiktoken"
      ]
    },
    {
      "cell_type": "markdown",
      "metadata": {
        "id": "kc8V5M3C8wAD"
      },
      "source": [
        "## OpenAI API Keyを設定"
      ]
    },
    {
      "cell_type": "code",
      "execution_count": 3,
      "metadata": {
        "id": "DN_a5uYQ6eC1"
      },
      "outputs": [],
      "source": [
        "import os\n",
        "\n",
        "os.environ['OPENAI_API_KEY'] = ''"
      ]
    },
    {
      "cell_type": "markdown",
      "metadata": {
        "id": "ywzYn19p-iTG"
      },
      "source": [
        "# PDF文書を分析する\n",
        "---"
      ]
    },
    {
      "cell_type": "markdown",
      "metadata": {
        "id": "uZZI7cT47jWf"
      },
      "source": [
        "## PDF文書を取り込む"
      ]
    },
    {
      "cell_type": "code",
      "execution_count": null,
      "metadata": {
        "id": "W_7rJq9T7lF1"
      },
      "outputs": [],
      "source": [
        "import os\n",
        "import shutil\n",
        "from langchain.document_loaders import PyPDFLoader\n",
        "from langchain.text_splitter import CharacterTextSplitter\n",
        "\n",
        "file_path = '第211回国会衆議院環境委員会第1号令和5年3月7日.pdf'\n",
        "\n",
        "loader = PyPDFLoader(file_path)\n",
        "text_splitter = CharacterTextSplitter(separator='。', chunk_size=100, chunk_overlap=20)\n",
        "docs = loader.load_and_split(text_splitter=text_splitter)"
      ]
    },
    {
      "cell_type": "markdown",
      "metadata": {
        "id": "ea2tsQ3R8BFW"
      },
      "source": [
        "## 文書をベクトル化し、ベクトルデータベースに保存する"
      ]
    },
    {
      "cell_type": "code",
      "execution_count": null,
      "metadata": {
        "id": "_O7eM4O78DlQ"
      },
      "outputs": [],
      "source": [
        "from langchain.embeddings.openai import OpenAIEmbeddings\n",
        "from langchain.vectorstores import Chroma\n",
        "\n",
        "\n",
        "embeddings = OpenAIEmbeddings()\n",
        "\n",
        "vectorstore_chroma_path = \"./vectorestore/local_chroma\"\n",
        "\n",
        "if os.path.exists(vectorstore_chroma_path):\n",
        "    shutil.rmtree(vectorstore_chroma_path)\n",
        "    print(\"The database has been deleted.\")\n",
        "else:\n",
        "    print(\"The database does not exist.\")\n",
        "\n",
        "vectordb = Chroma.from_documents(docs, embeddings, persist_directory=vectorstore_chroma_path)\n",
        "vectordb.persist()"
      ]
    },
    {
      "cell_type": "markdown",
      "metadata": {
        "id": "4uDkNuTY-WsE"
      },
      "source": [
        "# 質問と類似の情報を見つける\n",
        "---"
      ]
    },
    {
      "cell_type": "code",
      "execution_count": 7,
      "metadata": {
        "id": "G3bP_f8M-VH2"
      },
      "outputs": [],
      "source": [
        "from typing import List\n",
        "from langchain.docstore.document import Document\n",
        "\n",
        "\n",
        "def _similarity_search(query: str) -> List[Document]:\n",
        "    embeddings = OpenAIEmbeddings()\n",
        "\n",
        "    vectordb = Chroma(persist_directory=vectorstore_chroma_path, embedding_function=embeddings)\n",
        "    return vectordb.similarity_search(query, 5)"
      ]
    },
    {
      "cell_type": "markdown",
      "metadata": {
        "id": "Dw19vk-W_Sef"
      },
      "source": [
        "## 質問をする"
      ]
    },
    {
      "cell_type": "code",
      "execution_count": null,
      "metadata": {
        "id": "OyIugcnQ_AoV"
      },
      "outputs": [],
      "source": [
        "# 質問を入力する\n",
        "question = input()\n",
        "\n",
        "documents = _similarity_search(question)\n",
        "\n",
        "_ = [print(doc) for doc in documents]"
      ]
    }
  ],
  "metadata": {
    "colab": {
      "authorship_tag": "ABX9TyN3xD+57hriju1KJlwvEY3f",
      "include_colab_link": true,
      "provenance": []
    },
    "kernelspec": {
      "display_name": "Python 3",
      "name": "python3"
    },
    "language_info": {
      "name": "python"
    }
  },
  "nbformat": 4,
  "nbformat_minor": 0
}
