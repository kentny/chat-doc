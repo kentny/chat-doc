{
  "nbformat": 4,
  "nbformat_minor": 0,
  "metadata": {
    "colab": {
      "provenance": [],
      "authorship_tag": "ABX9TyN3xD+57hriju1KJlwvEY3f",
      "include_colab_link": true
    },
    "kernelspec": {
      "name": "python3",
      "display_name": "Python 3"
    },
    "language_info": {
      "name": "python"
    }
  },
  "cells": [
    {
      "cell_type": "markdown",
      "metadata": {
        "id": "view-in-github",
        "colab_type": "text"
      },
      "source": [
        "<a href=\"https://colab.research.google.com/github/kentny/chat-doc/blob/main/Section5/pdf_document_qa_bot.ipynb\" target=\"_parent\"><img src=\"https://colab.research.google.com/assets/colab-badge.svg\" alt=\"Open In Colab\"/></a>"
      ]
    },
    {
      "cell_type": "markdown",
      "source": [
        "# 事前準備\n",
        "---\n"
      ],
      "metadata": {
        "id": "uZlrKuxU6Jtl"
      }
    },
    {
      "cell_type": "code",
      "execution_count": null,
      "metadata": {
        "id": "di8I6XPt53vG"
      },
      "outputs": [],
      "source": [
        "!pip install openai \\\n",
        "           langchain \\\n",
        "           pypdf \\\n",
        "           chromadb \\\n",
        "           tiktoken"
      ]
    },
    {
      "cell_type": "markdown",
      "source": [
        "## OpenAI API Keyを設定"
      ],
      "metadata": {
        "id": "kc8V5M3C8wAD"
      }
    },
    {
      "cell_type": "code",
      "source": [
        "import os\n",
        "\n",
        "os.environ['OPENAI_API_KEY'] = ''"
      ],
      "metadata": {
        "id": "DN_a5uYQ6eC1"
      },
      "execution_count": 3,
      "outputs": []
    },
    {
      "cell_type": "markdown",
      "source": [
        "# PDF文書を分析する\n",
        "---"
      ],
      "metadata": {
        "id": "ywzYn19p-iTG"
      }
    },
    {
      "cell_type": "markdown",
      "source": [
        "## PDF文書を取り込む"
      ],
      "metadata": {
        "id": "uZZI7cT47jWf"
      }
    },
    {
      "cell_type": "code",
      "source": [
        "import os\n",
        "import shutil\n",
        "from langchain.document_loaders import PyPDFLoader\n",
        "from langchain.text_splitter import CharacterTextSplitter\n",
        "\n",
        "file_path = '第211回国会衆議院環境委員会第1号令和5年3月7日.pdf'\n",
        "\n",
        "loader = PyPDFLoader(file_path)\n",
        "text_splitter = CharacterTextSplitter(separator='。', chunk_size=100, chunk_overlap=20)\n",
        "docs = loader.load_and_split(text_splitter=text_splitter)"
      ],
      "metadata": {
        "id": "W_7rJq9T7lF1"
      },
      "execution_count": null,
      "outputs": []
    },
    {
      "cell_type": "markdown",
      "source": [
        "## 文書をベクトル化し、ベクトルデータベースに保存する"
      ],
      "metadata": {
        "id": "ea2tsQ3R8BFW"
      }
    },
    {
      "cell_type": "code",
      "source": [
        "from langchain.embeddings.openai import OpenAIEmbeddings\n",
        "from langchain.vectorstores import Chroma\n",
        "\n",
        "\n",
        "embeddings = OpenAIEmbeddings()\n",
        "\n",
        "vectorestore_chroma_path = \"./vectorestore/local_chroma\"\n",
        "\n",
        "if os.path.exists(vectorestore_chroma_path):\n",
        "    shutil.rmtree(vectorestore_chroma_path)\n",
        "    print(\"The database has been deleted.\")\n",
        "else:\n",
        "    print(\"The database does not exist.\")\n",
        "\n",
        "vectordb = Chroma.from_documents(docs, embeddings, persist_directory=vectorestore_chroma_path)\n",
        "vectordb.persist()"
      ],
      "metadata": {
        "id": "_O7eM4O78DlQ"
      },
      "execution_count": null,
      "outputs": []
    },
    {
      "cell_type": "markdown",
      "source": [
        "# 質問と類似の情報を見つける\n",
        "---"
      ],
      "metadata": {
        "id": "4uDkNuTY-WsE"
      }
    },
    {
      "cell_type": "code",
      "source": [
        "from typing import List\n",
        "from langchain.docstore.document import Document\n",
        "from langchain.embeddings.openai import OpenAIEmbeddings\n",
        "from langchain.vectorstores import Chroma\n",
        "\n",
        "\n",
        "def _similarity_search(query: str) -> List[Document]:\n",
        "    embeddings = OpenAIEmbeddings()\n",
        "\n",
        "    vectordb = Chroma(persist_directory=vectorestore_chroma_path, embedding_function=embeddings)\n",
        "    return vectordb.similarity_search(query, 5)"
      ],
      "metadata": {
        "id": "G3bP_f8M-VH2"
      },
      "execution_count": 7,
      "outputs": []
    },
    {
      "cell_type": "markdown",
      "source": [
        "## 質問をする"
      ],
      "metadata": {
        "id": "Dw19vk-W_Sef"
      }
    },
    {
      "cell_type": "code",
      "source": [
        "# 質問を入力する\n",
        "question = input()\n",
        "\n",
        "documents = _similarity_search(question)\n",
        "\n",
        "_ = [print(doc) for doc in documents]"
      ],
      "metadata": {
        "id": "OyIugcnQ_AoV"
      },
      "execution_count": null,
      "outputs": []
    }
  ]
}